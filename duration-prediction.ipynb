{
 "cells": [
  {
   "cell_type": "code",
   "execution_count": 1,
   "id": "8dc9498c",
   "metadata": {},
   "outputs": [],
   "source": [
    "import pandas as pd\n",
    "from sklearn.feature_extraction import DictVectorizer\n",
    "from sklearn.linear_model import LinearRegression\n",
    "from sklearn.metrics import mean_squared_error\n",
    "\n",
    "import pickle"
   ]
  },
  {
   "cell_type": "code",
   "execution_count": 2,
   "id": "8079ce7f",
   "metadata": {},
   "outputs": [],
   "source": [
    "import seaborn as sns\n",
    "import matplotlib.pyplot as plt\n",
    "from sklearn.feature_extraction import DictVectorizer\n",
    "from sklearn.linear_model import LinearRegression\n",
    "from sklearn.linear_model import Lasso\n",
    "from sklearn.linear_model import Ridge\n",
    "\n",
    "from sklearn.metrics import mean_squared_error"
   ]
  },
  {
   "cell_type": "code",
   "execution_count": 4,
   "id": "c824c9a8",
   "metadata": {},
   "outputs": [
    {
     "data": {
      "text/plain": [
       "<Experiment: artifact_location='./mlruns/2', experiment_id='2', lifecycle_stage='active', name='nyc-taxi-experiment', tags={}>"
      ]
     },
     "execution_count": 4,
     "metadata": {},
     "output_type": "execute_result"
    }
   ],
   "source": [
    "import mlflow\n",
    "\n",
    "mlflow.set_tracking_uri(\"sqlite:///mlflow.db\")\n",
    "mlflow.set_experiment(\"nyc-taxi-experiment\")"
   ]
  },
  {
   "cell_type": "code",
   "execution_count": 5,
   "id": "89a0458a",
   "metadata": {
    "scrolled": true
   },
   "outputs": [
    {
     "name": "stdout",
     "output_type": "stream",
     "text": [
      "Requirement already satisfied: pyarrow in /home/ubuntu/anaconda3/envs/exp-tracking-env/lib/python3.9/site-packages (8.0.0)\n",
      "Requirement already satisfied: numpy>=1.16.6 in /home/ubuntu/anaconda3/envs/exp-tracking-env/lib/python3.9/site-packages (from pyarrow) (1.22.4)\n",
      "Note: you may need to restart the kernel to use updated packages.\n"
     ]
    }
   ],
   "source": [
    "pip install pyarrow"
   ]
  },
  {
   "cell_type": "code",
   "execution_count": 6,
   "id": "9c5e4113",
   "metadata": {
    "scrolled": false
   },
   "outputs": [],
   "source": [
    "df = pd.read_parquet('/home/ubuntu/data/green_tripdata_2022-01.parquet')\n",
    "\n",
    "df['duration'] = df.lpep_dropoff_datetime - df.lpep_pickup_datetime\n",
    "df.duration = df.duration.apply(lambda td: td.total_seconds() / 60)\n",
    "\n",
    "df = df[(df.duration >= 1) & (df.duration <= 60)]\n",
    "\n",
    "categorical = ['PULocationID', 'DOLocationID']\n",
    "numerical = ['trip_distance']\n",
    "\n",
    "df[categorical] = df[categorical].astype(str)"
   ]
  },
  {
   "cell_type": "code",
   "execution_count": 7,
   "id": "d4225cdd",
   "metadata": {},
   "outputs": [
    {
     "data": {
      "text/plain": [
       "7.735793552152567"
      ]
     },
     "execution_count": 7,
     "metadata": {},
     "output_type": "execute_result"
    }
   ],
   "source": [
    "train_dicts = df[categorical + numerical].to_dict(orient='records')\n",
    "\n",
    "dv = DictVectorizer()\n",
    "X_train = dv.fit_transform(train_dicts)\n",
    "\n",
    "target = 'duration'\n",
    "y_train = df[target].values\n",
    "\n",
    "lr = LinearRegression()\n",
    "lr.fit(X_train, y_train)\n",
    "\n",
    "y_pred = lr.predict(X_train)\n",
    "\n",
    "mean_squared_error(y_train, y_pred, squared=False)"
   ]
  },
  {
   "cell_type": "code",
   "execution_count": 8,
   "id": "2f6dcaf3",
   "metadata": {},
   "outputs": [
    {
     "name": "stderr",
     "output_type": "stream",
     "text": [
      "/home/ubuntu/anaconda3/envs/exp-tracking-env/lib/python3.9/site-packages/seaborn/distributions.py:2619: FutureWarning: `distplot` is a deprecated function and will be removed in a future version. Please adapt your code to use either `displot` (a figure-level function with similar flexibility) or `histplot` (an axes-level function for histograms).\n",
      "  warnings.warn(msg, FutureWarning)\n",
      "/home/ubuntu/anaconda3/envs/exp-tracking-env/lib/python3.9/site-packages/seaborn/distributions.py:2619: FutureWarning: `distplot` is a deprecated function and will be removed in a future version. Please adapt your code to use either `displot` (a figure-level function with similar flexibility) or `histplot` (an axes-level function for histograms).\n",
      "  warnings.warn(msg, FutureWarning)\n"
     ]
    },
    {
     "data": {
      "text/plain": [
       "<matplotlib.legend.Legend at 0x7fb80dc3ca60>"
      ]
     },
     "execution_count": 8,
     "metadata": {},
     "output_type": "execute_result"
    },
    {
     "data": {
      "image/png": "[encoded data removed]",
      "text/plain": [
       "<Figure size 432x288 with 1 Axes>"
      ]
     },
     "metadata": {
      "needs_background": "light"
     },
     "output_type": "display_data"
    }
   ],
   "source": [
    "sns.distplot(y_pred, label='prediction')\n",
    "sns.distplot(y_train, label='actual')\n",
    "\n",
    "plt.legend()"
   ]
  },
  {
   "cell_type": "code",
   "execution_count": 9,
   "id": "b6d058b5",
   "metadata": {},
   "outputs": [],
   "source": [
    "def read_dataframe(filename):\n",
    "    if filename.endswith('.csv'):\n",
    "        df = pd.read_csv(filename)\n",
    "\n",
    "        df.lpep_dropoff_datetime = pd.to_datetime(df.lpep_dropoff_datetime)\n",
    "        df.lpep_pickup_datetime = pd.to_datetime(df.lpep_pickup_datetime)\n",
    "    elif filename.endswith('.parquet'):\n",
    "        df = pd.read_parquet(filename)\n",
    "\n",
    "    df['duration'] = df.lpep_dropoff_datetime - df.lpep_pickup_datetime\n",
    "    df.duration = df.duration.apply(lambda td: td.total_seconds() / 60)\n",
    "\n",
    "    df = df[(df.duration >= 1) & (df.duration <= 60)]\n",
    "\n",
    "    categorical = ['PULocationID', 'DOLocationID']\n",
    "    df[categorical] = df[categorical].astype(str)\n",
    "    \n",
    "    return df"
   ]
  },
  {
   "cell_type": "code",
   "execution_count": 10,
   "id": "13671880",
   "metadata": {},
   "outputs": [],
   "source": [
    "df_train = read_dataframe('/home/ubuntu/data/green_tripdata_2022-01.parquet')\n",
    "df_val = read_dataframe('/home/ubuntu/data/green_tripdata_2022-02.parquet')"
   ]
  },
  {
   "cell_type": "code",
   "execution_count": 11,
   "id": "fb0d8b94",
   "metadata": {},
   "outputs": [
    {
     "data": {
      "text/plain": [
       "(59603, 66097)"
      ]
     },
     "execution_count": 11,
     "metadata": {},
     "output_type": "execute_result"
    }
   ],
   "source": [
    "len(df_train), len(df_val)"
   ]
  },
  {
   "cell_type": "code",
   "execution_count": 12,
   "id": "4d1a4f81",
   "metadata": {},
   "outputs": [],
   "source": [
    "df_train['PU_DO'] = df_train['PULocationID'] + '_' + df_train['DOLocationID']\n",
    "df_val['PU_DO'] = df_val['PULocationID'] + '_' + df_val['DOLocationID']"
   ]
  },
  {
   "cell_type": "code",
   "execution_count": 13,
   "id": "ffe1507d",
   "metadata": {},
   "outputs": [],
   "source": [
    "\n",
    "categorical = ['PU_DO'] #'PULocationID', 'DOLocationID']\n",
    "numerical = ['trip_distance']\n",
    "\n",
    "dv = DictVectorizer()\n",
    "\n",
    "train_dicts = df_train[categorical + numerical].to_dict(orient='records')\n",
    "X_train = dv.fit_transform(train_dicts)\n",
    "\n",
    "val_dicts = df_val[categorical + numerical].to_dict(orient='records')\n",
    "X_val = dv.transform(val_dicts)"
   ]
  },
  {
   "cell_type": "code",
   "execution_count": 14,
   "id": "24af812b",
   "metadata": {},
   "outputs": [],
   "source": [
    "target = 'duration'\n",
    "y_train = df_train[target].values\n",
    "y_val = df_val[target].values"
   ]
  },
  {
   "cell_type": "code",
   "execution_count": 15,
   "id": "68137c70",
   "metadata": {},
   "outputs": [
    {
     "data": {
      "text/plain": [
       "6.928931233573194"
      ]
     },
     "execution_count": 15,
     "metadata": {},
     "output_type": "execute_result"
    }
   ],
   "source": [
    "lr = LinearRegression()\n",
    "lr.fit(X_train, y_train)\n",
    "\n",
    "y_pred = lr.predict(X_val)\n",
    "\n",
    "mean_squared_error(y_val, y_pred, squared=False)"
   ]
  },
  {
   "cell_type": "code",
   "execution_count": 16,
   "id": "881ae4fd",
   "metadata": {},
   "outputs": [],
   "source": [
    "with open('/home/ubuntu/models/lin_reg.bin', 'wb') as f_out:\n",
    "    pickle.dump((dv, lr), f_out)"
   ]
  },
  {
   "cell_type": "code",
   "execution_count": 17,
   "id": "82bb9309",
   "metadata": {},
   "outputs": [],
   "source": [
    "with mlflow.start_run():\n",
    "    mlflow.set_tag(\"developer\",\"shruti\")\n",
    "    mlflow.log_param(\"train-data-path\", \"/home/ubuntu/data/green_tripdata_2022-01.parquet\")\n",
    "    mlflow.log_param(\"val-data-path\", \"/home/ubuntu/data/green_tripdata_2022-02 .parquet\")\n",
    "\n",
    "    alpha = 0.02\n",
    "    mlflow.log_param(\"alpha\",alpha)\n",
    "    lr = Lasso(alpha)\n",
    "    lr.fit(X_train, y_train)\n",
    "\n",
    "    y_pred = lr.predict(X_val)\n",
    "\n",
    "    mse = mean_squared_error(y_val, y_pred, squared=False)\n",
    "    mlflow.log_metric(\"mse\",mse)"
   ]
  },
  {
   "cell_type": "code",
   "execution_count": 18,
   "id": "a7d4a976",
   "metadata": {},
   "outputs": [],
   "source": [
    "import xgboost as xgb\n",
    "from hyperopt import fmin, tpe, hp, STATUS_OK, Trials\n",
    "from hyperopt.pyll import scope"
   ]
  },
  {
   "cell_type": "code",
   "execution_count": 19,
   "id": "1dd56c0a",
   "metadata": {},
   "outputs": [],
   "source": [
    "train=xgb.DMatrix(X_train, label=y_train)\n",
    "valid = xgb.DMatrix(X_val, label=y_val)"
   ]
  },
  {
   "cell_type": "code",
   "execution_count": 20,
   "id": "2b419b0d",
   "metadata": {},
   "outputs": [],
   "source": [
    "def objective(params):\n",
    "    with mlflow.start_run():\n",
    "        mlflow.set_tag(\"model\", \"xgboost\")\n",
    "        mlflow.log_params(params)\n",
    "        booster = xgb.train(\n",
    "            params=params,\n",
    "            dtrain=train,\n",
    "            num_boost_round = 1000,\n",
    "            evals = [(valid,\"validation\")],\n",
    "            early_stopping_rounds = 50\n",
    "        )\n",
    "        y_pred = booster.predict(valid)\n",
    "        rmse = mean_squared_error(y_val, y_pred, squared=False)\n",
    "        mlflow.log_metric(\"rmse\", rmse)\n",
    "    return{'loss':rmse, 'status':STATUS_OK}"
   ]
  },
  {
   "cell_type": "code",
   "execution_count": 21,
   "id": "b044bd3b",
   "metadata": {},
   "outputs": [],
   "source": [
    "search_space = {\n",
    "    'max_depth': scope.int(hp.quniform('max_depth', 4, 100, 1)),\n",
    "    'learning_rate': hp.loguniform('learning_rate', -2,0),\n",
    "    'reg_alpha': hp.loguniform('reg_alpha', -5,-1),\n",
    "    'reg_lambda':hp.loguniform('reg_lambda', -6, -1),\n",
    "    'min_child_weight':hp.loguniform('min_child_weight', -1, 3),\n",
    "    'objective':'reg:linear',\n",
    "    'seed':42,\n",
    "}"
   ]
  },
  {
   "cell_type": "code",
   "execution_count": 22,
   "id": "4e80da80",
   "metadata": {},
   "outputs": [
    {
     "name": "stdout",
     "output_type": "stream",
     "text": [
      "[21:46:02] WARNING: ../src/objective/regression_obj.cu:203: reg:linear is now deprecated in favor of reg:squarederror.\n",
      "[0]\tvalidation-rmse:9.99774                          \n",
      "[1]\tvalidation-rmse:7.28486                          \n",
      "[2]\tvalidation-rmse:6.42528                          \n",
      "[3]\tvalidation-rmse:6.15662                          \n",
      "[4]\tvalidation-rmse:6.06002                          \n",
      "[5]\tvalidation-rmse:6.01723                          \n",
      "[6]\tvalidation-rmse:5.99384                          \n",
      "[7]\tvalidation-rmse:5.98452                          \n",
      "[8]\tvalidation-rmse:5.97349                          \n",
      "[9]\tvalidation-rmse:5.96838                          \n",
      "[10]\tvalidation-rmse:5.96538                         \n",
      "[11]\tvalidation-rmse:5.96191                         \n",
      "[12]\tvalidation-rmse:5.96025                         \n",
      "[13]\tvalidation-rmse:5.95674                         \n",
      "[14]\tvalidation-rmse:5.95079                         \n",
      "[15]\tvalidation-rmse:5.94836                         \n",
      "[16]\tvalidation-rmse:5.93560                         \n",
      "[17]\tvalidation-rmse:5.93227                         \n",
      "[18]\tvalidation-rmse:5.93178                         \n",
      "[19]\tvalidation-rmse:5.93087                         \n",
      "[20]\tvalidation-rmse:5.92817                         \n",
      "[21]\tvalidation-rmse:5.92519                         \n",
      "[22]\tvalidation-rmse:5.92359                         \n",
      "[23]\tvalidation-rmse:5.92108                         \n",
      "[24]\tvalidation-rmse:5.91896                         \n",
      "[25]\tvalidation-rmse:5.91616                         \n",
      "[26]\tvalidation-rmse:5.91457                         \n",
      "[27]\tvalidation-rmse:5.91398                         \n",
      "[28]\tvalidation-rmse:5.91272                         \n",
      "[29]\tvalidation-rmse:5.91197                         \n",
      "[30]\tvalidation-rmse:5.90256                         \n",
      "[31]\tvalidation-rmse:5.90100                         \n",
      "[32]\tvalidation-rmse:5.89949                         \n",
      "[33]\tvalidation-rmse:5.89902                         \n",
      "[34]\tvalidation-rmse:5.89790                         \n",
      "[35]\tvalidation-rmse:5.89731                         \n",
      "[36]\tvalidation-rmse:5.89687                         \n",
      "[37]\tvalidation-rmse:5.89635                         \n",
      "[38]\tvalidation-rmse:5.89573                         \n",
      "[39]\tvalidation-rmse:5.89411                         \n",
      "[40]\tvalidation-rmse:5.89381                         \n",
      "[41]\tvalidation-rmse:5.89310                         \n",
      "[42]\tvalidation-rmse:5.89152                         \n",
      "[43]\tvalidation-rmse:5.89129                         \n",
      "[44]\tvalidation-rmse:5.89076                         \n",
      "[45]\tvalidation-rmse:5.88741                         \n",
      "[46]\tvalidation-rmse:5.88697                         \n",
      "[47]\tvalidation-rmse:5.88647                         \n",
      "[48]\tvalidation-rmse:5.88657                         \n",
      "[49]\tvalidation-rmse:5.88537                         \n",
      "[50]\tvalidation-rmse:5.88430                         \n",
      "[51]\tvalidation-rmse:5.88362                         \n",
      "[52]\tvalidation-rmse:5.88316                         \n",
      "[53]\tvalidation-rmse:5.88609                         \n",
      "[54]\tvalidation-rmse:5.88581                         \n",
      "[55]\tvalidation-rmse:5.88565                         \n",
      "[56]\tvalidation-rmse:5.88506                         \n",
      "[57]\tvalidation-rmse:5.88479                         \n",
      "[58]\tvalidation-rmse:5.88382                         \n",
      "[59]\tvalidation-rmse:5.88372                         \n",
      "[60]\tvalidation-rmse:5.88296                         \n",
      "[61]\tvalidation-rmse:5.88353                         \n",
      "[62]\tvalidation-rmse:5.88354                         \n",
      "[63]\tvalidation-rmse:5.88295                         \n",
      "[64]\tvalidation-rmse:5.88216                         \n",
      "[65]\tvalidation-rmse:5.87937                         \n",
      "[66]\tvalidation-rmse:5.87923                         \n",
      "[67]\tvalidation-rmse:5.87850                         \n",
      "[68]\tvalidation-rmse:5.87712                         \n",
      "[69]\tvalidation-rmse:5.87945                         \n",
      "[70]\tvalidation-rmse:5.87821                         \n",
      "[71]\tvalidation-rmse:5.87870                         \n",
      "[72]\tvalidation-rmse:5.87910                         \n",
      "[73]\tvalidation-rmse:5.87924                         \n",
      "[74]\tvalidation-rmse:5.87915                         \n",
      "[75]\tvalidation-rmse:5.87856                         \n",
      "[76]\tvalidation-rmse:5.88096                         \n",
      "[77]\tvalidation-rmse:5.88069                         \n",
      "[78]\tvalidation-rmse:5.88045                         \n",
      "[79]\tvalidation-rmse:5.88149                         \n",
      "[80]\tvalidation-rmse:5.88221                         \n",
      "[81]\tvalidation-rmse:5.88323                         \n",
      "[82]\tvalidation-rmse:5.88339                         \n",
      "[83]\tvalidation-rmse:5.88307                         \n",
      "[84]\tvalidation-rmse:5.88236                         \n",
      "[85]\tvalidation-rmse:5.88222                         \n",
      "[86]\tvalidation-rmse:5.88194                         \n",
      "[87]\tvalidation-rmse:5.88125                         \n",
      "[88]\tvalidation-rmse:5.88298                         \n",
      "[89]\tvalidation-rmse:5.88245                         \n",
      "[90]\tvalidation-rmse:5.88221                         \n",
      "[91]\tvalidation-rmse:5.88180                         \n",
      "[92]\tvalidation-rmse:5.88166                         \n",
      "[93]\tvalidation-rmse:5.88170                         \n",
      "[94]\tvalidation-rmse:5.88172                         \n",
      "[95]\tvalidation-rmse:5.88159                         \n",
      "[96]\tvalidation-rmse:5.88342                         \n",
      "[97]\tvalidation-rmse:5.88385                         \n",
      "[98]\tvalidation-rmse:5.88409                         \n",
      "[99]\tvalidation-rmse:5.88422                         \n",
      "[100]\tvalidation-rmse:5.88417                        \n",
      "[101]\tvalidation-rmse:5.88451                        \n",
      "[102]\tvalidation-rmse:5.88427                        \n",
      "[103]\tvalidation-rmse:5.88350                        \n",
      "[104]\tvalidation-rmse:5.88326                        \n",
      "[105]\tvalidation-rmse:5.88193                        \n",
      "[106]\tvalidation-rmse:5.88209                        \n",
      "[107]\tvalidation-rmse:5.88194                        \n",
      "[108]\tvalidation-rmse:5.88080                        \n",
      "[109]\tvalidation-rmse:5.88036                        \n",
      "[110]\tvalidation-rmse:5.88038                        \n",
      "[111]\tvalidation-rmse:5.88011                        \n",
      "[112]\tvalidation-rmse:5.88027                        \n",
      "[113]\tvalidation-rmse:5.87985                        \n",
      "[114]\tvalidation-rmse:5.87979                        \n",
      "[115]\tvalidation-rmse:5.87988                        \n",
      "[116]\tvalidation-rmse:5.87997                        \n",
      "[117]\tvalidation-rmse:5.87988                        \n",
      "100%|██████████| 1/1 [00:11<00:00, 11.22s/trial, best loss: 5.879927084718102]\n"
     ]
    }
   ],
   "source": [
    "best_result = fmin(\n",
    "    fn=objective,\n",
    "    space=search_space,\n",
    "    algo=tpe.suggest,\n",
    "    max_evals=1,\n",
    "    trials=Trials()\n",
    ")"
   ]
  },
  {
   "cell_type": "markdown",
   "id": "af175e7d",
   "metadata": {},
   "source": [
    "Taking the best parameter fromt he above training to conduct inference"
   ]
  },
  {
   "cell_type": "code",
   "execution_count": 23,
   "id": "129de868",
   "metadata": {},
   "outputs": [],
   "source": [
    "params={\n",
    "    'learning_rate':0.30496744373957435,\n",
    "    'max_depth':86,\n",
    "    'min_child_weight':19.05362965923123,\n",
    "    'objective':'reg:linear',\n",
    "    'reg_alpha':0.1387043209444142,\n",
    "    'reg_lambda':0.26102638998865857,\n",
    "    'seed':42\n",
    "}"
   ]
  },
  {
   "cell_type": "markdown",
   "id": "88458426",
   "metadata": {},
   "source": [
    "Autologging without mentioning what to log"
   ]
  },
  {
   "cell_type": "code",
   "execution_count": 25,
   "id": "5250565a",
   "metadata": {},
   "outputs": [
    {
     "name": "stderr",
     "output_type": "stream",
     "text": [
      "2022/06/26 21:48:21 INFO mlflow.utils.autologging_utils: Created MLflow autologging run with ID '5d4b10f66bd543e4836ce6c5d03dee19', which will track hyperparameters, performance metrics, model artifacts, and lineage information for the current xgboost workflow\n"
     ]
    },
    {
     "name": "stdout",
     "output_type": "stream",
     "text": [
      "[21:48:21] WARNING: ../src/objective/regression_obj.cu:203: reg:linear is now deprecated in favor of reg:squarederror.\n",
      "[0]\tvalidation-rmse:13.11946\n",
      "[1]\tvalidation-rmse:10.32095\n",
      "[2]\tvalidation-rmse:8.58064\n",
      "[3]\tvalidation-rmse:7.53932\n",
      "[4]\tvalidation-rmse:6.93805\n",
      "[5]\tvalidation-rmse:6.59704\n",
      "[6]\tvalidation-rmse:6.39979\n",
      "[7]\tvalidation-rmse:6.28321\n",
      "[8]\tvalidation-rmse:6.21490\n",
      "[9]\tvalidation-rmse:6.17382\n"
     ]
    },
    {
     "name": "stderr",
     "output_type": "stream",
     "text": [
      "2022/06/26 21:48:25 WARNING mlflow.xgboost: Failed to infer model signature: could not sample data to infer model signature: please ensure that autologging is enabled before constructing the dataset.\n",
      "2022/06/26 21:48:27 WARNING mlflow.utils.autologging_utils: MLflow autologging encountered a warning: \"/home/ubuntu/anaconda3/envs/exp-tracking-env/lib/python3.9/site-packages/_distutils_hack/__init__.py:30: UserWarning: Setuptools is replacing distutils.\"\n"
     ]
    }
   ],
   "source": [
    "mlflow.xgboost.autolog()\n",
    "#mlflow autolog method works with certain parameters\n",
    "booster = xgb.train(\n",
    "    params=params,\n",
    "    dtrain=train,\n",
    "    num_boost_round = 10,\n",
    "    evals = [(valid,\"validation\")],\n",
    "    early_stopping_rounds = 50\n",
    ")"
   ]
  }
 ],
 "metadata": {
  "kernelspec": {
   "display_name": "Python 3.9.12 ('exp-tracking-env')",
   "language": "python",
   "name": "python3"
  },
  "language_info": {
   "codemirror_mode": {
    "name": "ipython",
    "version": 3
   },
   "file_extension": ".py",
   "mimetype": "text/x-python",
   "name": "python",
   "nbconvert_exporter": "python",
   "pygments_lexer": "ipython3",
   "version": "3.9.12"
  },
  "vscode": {
   "interpreter": {
    "hash": "28b64ab469a48a0c250e8d59bd611e7be18157868e9c55fbe8ccf7861d9bf740"
   }
  }
 },
 "nbformat": 4,
 "nbformat_minor": 5
}
